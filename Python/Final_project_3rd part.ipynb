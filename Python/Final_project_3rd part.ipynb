{
 "cells": [
  {
   "cell_type": "code",
   "execution_count": null,
   "metadata": {},
   "outputs": [
    {
     "name": "stdout",
     "output_type": "stream",
     "text": [
      "<class 'pandas.core.frame.DataFrame'>\n",
      "RangeIndex: 51 entries, 0 to 50\n",
      "Data columns (total 13 columns):\n",
      " #   Column                 Non-Null Count  Dtype   \n",
      "---  ------                 --------------  -----   \n",
      " 0   nazev pozice           51 non-null     object  \n",
      " 1   kategorie              51 non-null     category\n",
      " 2   nazev firmy            51 non-null     object  \n",
      " 3   technologie            51 non-null     object  \n",
      " 4   lokalita               51 non-null     object  \n",
      " 5   pocet dalsich lokalit  51 non-null     int32   \n",
      " 6   zeme prace             51 non-null     object  \n",
      " 7   mzda                   51 non-null     object  \n",
      " 8   dolni hranice          51 non-null     int32   \n",
      " 9   horni hranice          51 non-null     int32   \n",
      " 10  mena                   51 non-null     object  \n",
      " 11  mzda prumer            51 non-null     int32   \n",
      " 12  senior pozice          51 non-null     int32   \n",
      "dtypes: category(1), int32(5), object(7)\n",
      "memory usage: 4.1+ KB\n"
     ]
    }
   ],
   "source": [
    "import pandas as pd\n",
    "import re\n",
    "import glob\n",
    "import numpy as np\n",
    "\n",
    "#deleting offer with other currency than PLN, change location and position name to lower case, count average salary, correction of location name, adding country \n",
    "#setting of data types, saving data to csv\n",
    "\n",
    "data = pd.read_csv(\"job_offers_2024-06-27.csv\",\n",
    "                   encoding = \"utf-8\",\n",
    "                   sep = \",\",\n",
    "                   decimal = \".\"\n",
    "                   )\n",
    "spatna_mena = data.loc[data[\"mena\"] != \"PLN\"].index\n",
    "data = data.drop(spatna_mena, inplace = False)\n",
    "data\n",
    "data.reset_index(drop = True, inplace = True)  \n",
    "data\n",
    "\n",
    "data[\"nazev pozice\"] = data[\"nazev pozice\"].str.lower()\n",
    "data[\"lokalita\"] = data[\"lokalita\"].str.lower()\n",
    "data\n",
    "\n",
    "prumer = (data[\"dolni hranice\"] + data[\"horni hranice\"]) /2 \n",
    "data[\"mzda prumer\"] = prumer\n",
    "data\n",
    "\n",
    "data[\"lokalita\"].unique()\n",
    "data[\"lokalita\"] = data[\"lokalita\"].str.strip()\n",
    "data[\"lokalita\"].unique()\n",
    "data.loc[data[\"lokalita\"] == \"warsaw\", \"lokalita\"] = 'warszawa'\n",
    "data[\"lokalita\"].unique()\n",
    "\n",
    "data[\"zeme prace\"] = data[\"lokalita\"].apply(lambda x: \"N/A\" if x  == \"remote\" else \"PL\")\n",
    "data = data[[\"nazev pozice\", \"kategorie\", \"nazev firmy\", \"technologie\", \"lokalita\", \"počet dalsich lokalit\", \"zeme prace\", \"mzda\", \"dolni hranice\", \"horni hranice\", \"mena\", \"mzda prumer\"]]\n",
    "data\n",
    "\n",
    "\n",
    "data[\"senior pozice\"] = np.where(data[\"nazev pozice\"].str.contains(\"senior\"), 1, 0)  #second option: data[\"nazev pozice\"].apply(lambda x: 1 if \"senior\" in x else 0) - jako u sloupce \"zeme prace\"\n",
    "                                                                                    \n",
    "data.rename(columns= {'počet dalsich lokalit' : \"pocet dalsich lokalit\"}, inplace = True)\n",
    "\n",
    "data\n",
    "\n",
    "\n",
    "data[\"kategorie\"] = data[\"kategorie\"].astype(\"category\")\n",
    "data[[\"pocet dalsich lokalit\", \"dolni hranice\", \"horni hranice\", \"mzda prumer\", \"senior pozice\"]] = data[[\"pocet dalsich lokalit\", \"dolni hranice\", \"horni hranice\", \"mzda prumer\", \"senior pozice\"]].astype(\"int\")\n",
    "\n",
    "data.info()\n",
    "\n",
    "data.to_csv(\"job_offers_2024-06-27_cleaned.csv\",\n",
    "            encoding = \"utf-8\",\n",
    "            sep = \",\",\n",
    "            decimal = \".\"\n",
    ")\n",
    "                          "
   ]
  }
 ],
 "metadata": {
  "kernelspec": {
   "display_name": "base",
   "language": "python",
   "name": "python3"
  },
  "language_info": {
   "codemirror_mode": {
    "name": "ipython",
    "version": 3
   },
   "file_extension": ".py",
   "mimetype": "text/x-python",
   "name": "python",
   "nbconvert_exporter": "python",
   "pygments_lexer": "ipython3",
   "version": "3.11.7"
  }
 },
 "nbformat": 4,
 "nbformat_minor": 2
}
