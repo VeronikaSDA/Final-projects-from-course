{
 "cells": [
  {
   "cell_type": "code",
   "execution_count": null,
   "metadata": {},
   "outputs": [],
   "source": [
    "import pandas as pd\n",
    "import re\n",
    "import glob\n",
    "import numpy as np\n",
    "\n",
    "#deleting offer with other currency than PLN, change location and position name to lower case, count average salary, correction of location name, adding country \n",
    "#setting of data types, saving data to csv\n",
    "\n",
    "data = pd.read_csv(\"job_offers_2024-06-27.csv\",\n",
    "                   encoding = \"utf-8\",\n",
    "                   sep = \",\",\n",
    "                   decimal = \".\"\n",
    "                   )\n",
    "spatna_mena = data.loc[data[\"mena\"] != \"PLN\"].index\n",
    "data = data.drop(spatna_mena, inplace = False)\n",
    "data\n",
    "data.reset_index(drop = True, inplace = True)  \n",
    "data\n",
    "\n",
    "data[\"nazev pozice\"] = data[\"nazev pozice\"].str.lower()\n",
    "data[\"lokalita\"] = data[\"lokalita\"].str.lower()\n",
    "data\n",
    "\n",
    "prumer = (data[\"dolni hranice\"] + data[\"horni hranice\"]) /2 \n",
    "data[\"mzda prumer\"] = prumer\n",
    "data\n",
    "\n",
    "data[\"lokalita\"].unique()\n",
    "data[\"lokalita\"] = data[\"lokalita\"].str.strip()\n",
    "data[\"lokalita\"].unique()\n",
    "data.loc[data[\"lokalita\"] == \"warsaw\", \"lokalita\"] = 'warszawa'\n",
    "data[\"lokalita\"].unique()\n",
    "\n",
    "data[\"zeme prace\"] = data[\"lokalita\"].apply(lambda x: \"N/A\" if x  == \"remote\" else \"PL\")\n",
    "data = data[[\"nazev pozice\", \"kategorie\", \"nazev firmy\", \"technologie\", \"lokalita\", \"počet dalsich lokalit\", \"zeme prace\", \"mzda\", \"dolni hranice\", \"horni hranice\", \"mena\", \"mzda prumer\"]]\n",
    "data\n",
    "\n",
    "\n",
    "data[\"senior pozice\"] = np.where(data[\"nazev pozice\"].str.contains(\"senior\"), 1, 0)  #second option: data[\"nazev pozice\"].apply(lambda x: 1 if \"senior\" in x else 0) - jako u sloupce \"zeme prace\"\n",
    "                                                                                    \n",
    "data.rename(columns= {'počet dalsich lokalit' : \"pocet dalsich lokalit\"}, inplace = True)\n",
    "\n",
    "data\n",
    "\n",
    "\n",
    "data[\"kategorie\"] = data[\"kategorie\"].astype(\"category\")\n",
    "data[[\"pocet dalsich lokalit\", \"dolni hranice\", \"horni hranice\", \"mzda prumer\", \"senior pozice\"]] = data[[\"pocet dalsich lokalit\", \"dolni hranice\", \"horni hranice\", \"mzda prumer\", \"senior pozice\"]].astype(\"int\")\n",
    "\n",
    "data.info()\n",
    "\n",
    "data.to_csv(\"job_offers_2024-06-27_cleaned.csv\",\n",
    "            encoding = \"utf-8\",\n",
    "            sep = \",\",\n",
    "            decimal = \".\"\n",
    ")\n",
    "                          "
   ]
  }
 ],
 "metadata": {
  "kernelspec": {
   "display_name": "base",
   "language": "python",
   "name": "python3"
  },
  "language_info": {
   "codemirror_mode": {
    "name": "ipython",
    "version": 3
   },
   "file_extension": ".py",
   "mimetype": "text/x-python",
   "name": "python",
   "nbconvert_exporter": "python",
   "pygments_lexer": "ipython3",
   "version": "3.11.7"
  }
 },
 "nbformat": 4,
 "nbformat_minor": 2
}
