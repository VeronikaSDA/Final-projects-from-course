{
 "cells": [
  {
   "cell_type": "code",
   "execution_count": null,
   "metadata": {},
   "outputs": [],
   "source": [
    "from selenium import webdriver\n",
    "from selenium.webdriver.chrome.service import Service\n",
    "from webdriver_manager.chrome import ChromeDriverManager\n",
    "from bs4 import BeautifulSoup as bs\n",
    "import pandas as pd\n",
    "from selenium.common import ElementClickInterceptedException, NoSuchElementException\n",
    "from selenium.webdriver.common.by import By\n",
    "import time\n",
    "\n",
    "\n",
    "#retrieve code of webpage for specific positon, close cookies settings, load all of pages\n",
    "\n",
    "service = Service(ChromeDriverManager().install())\n",
    "browser = webdriver.Chrome(service=service)\n",
    "\n",
    "def position_search(nazev_pozice:str): #name of position is automaticaly added on base of following codes\n",
    "    url = f'https://nofluffjobs.com/pl/jobs/?criteria=keyword%3D\"{nazev_pozice}\"'\n",
    "    browser.get(url)\n",
    "    cookies_potvrzeny = False\n",
    "    time.sleep(3)\n",
    "    \n",
    "    \n",
    "    if not cookies_potvrzeny:\n",
    "        cookie = browser.find_elements(\"id\", \"onetrust-accept-btn-handler\")\n",
    "        if len(cookie) > 0:\n",
    "            print(\"Cookies byly nalezeny\")\n",
    "            cookie[0].click()   \n",
    "            cookies_potvrzeny = True\n",
    "        else:\n",
    "            print(\"Cookies nebyly nalezeny\")\n",
    "        time.sleep(3)\n",
    "\n",
    "    \n",
    "    page_nr = 1\n",
    "    \n",
    "    \n",
    "    try:\n",
    "        next_page = browser.find_element(\"css selector\", \"tw-btn tw-btn-primary tw-px-8 tw-block tw-btn-xl\")\n",
    "        next_page.click()\n",
    "        page_nr += 1\n",
    "        time.sleep(5)\n",
    "    except ElementClickInterceptedException:\n",
    "        print(\"Tlačítko nebylo možné stisknout.\")\n",
    "        time.sleep(5)\n",
    "    except NoSuchElementException:\n",
    "        print(\"Tlačítko se již nezobrazuje, jsi na konci.\")\n",
    "                        \n",
    "        \n",
    "    print(f\"Vsechny stranky byly nacteny. Celkem bylo nacteno {page_nr}\")\n",
    "        \n",
    "    html = browser.page_source        \n",
    "    return bs(html, \"html.parser\")\n",
    "\n",
    "\n",
    "        "
   ]
  },
  {
   "cell_type": "code",
   "execution_count": null,
   "metadata": {},
   "outputs": [],
   "source": [
    "#download positon name and web data\n",
    "\n",
    "def uloz_data(nazev_pozice:str):\n",
    "    result =  []\n",
    "    web_data = position_search(nazev_pozice)\n",
    "    result.append(\n",
    "        {\"nazev_pozice\" : nazev_pozice,\n",
    "         \"stazena_data\" : str(web_data)\n",
    "         }\n",
    "    )\n",
    "    return result"
   ]
  },
  {
   "cell_type": "code",
   "execution_count": null,
   "metadata": {},
   "outputs": [],
   "source": [
    "positions = [\"data analyst\", \"data engineer\", \"data scientist\"]"
   ]
  },
  {
   "cell_type": "code",
   "execution_count": null,
   "metadata": {},
   "outputs": [],
   "source": [
    "data = []\n",
    "for position in positions:\n",
    "    print(data)\n",
    "    data += uloz_data(position)\n",
    "    print(f\"Data pro pozici {position} byla uspesne ulozena.\")\n",
    "\n",
    "browser.close()"
   ]
  },
  {
   "cell_type": "code",
   "execution_count": null,
   "metadata": {},
   "outputs": [],
   "source": [
    "df = pd.DataFrame(data)\n",
    "df"
   ]
  },
  {
   "cell_type": "code",
   "execution_count": null,
   "metadata": {},
   "outputs": [],
   "source": [
    "#getting HTML file with data from web for positions\n",
    "\n",
    "i = 0\n",
    "for zaznam in data:\n",
    "    jmeno_souboru = zaznam[\"nazev_pozice\"] #zde není název pozice proměnná, ale klíč ve slovníku (musí se to tedy shodovat s názvem klíče)\n",
    "\n",
    "    with open(f\"{jmeno_souboru}.html\", \"w\", encoding = \"utf-8\") as file:\n",
    "        file.write(zaznam[\"stazena_data\"])\n",
    "        print(f\"Soubor pro pozici {jmeno_souboru} byl uspesne vytvoren.\")"
   ]
  },
  {
   "cell_type": "code",
   "execution_count": null,
   "metadata": {},
   "outputs": [],
   "source": []
  }
 ],
 "metadata": {
  "kernelspec": {
   "display_name": "Python 3 (ipykernel)",
   "language": "python",
   "name": "python3"
  },
  "language_info": {
   "codemirror_mode": {
    "name": "ipython",
    "version": 3
   },
   "file_extension": ".py",
   "mimetype": "text/x-python",
   "name": "python",
   "nbconvert_exporter": "python",
   "pygments_lexer": "ipython3",
   "version": "3.11.7"
  }
 },
 "nbformat": 4,
 "nbformat_minor": 2
}
